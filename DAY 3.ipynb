{
 "cells": [
  {
   "cell_type": "code",
   "execution_count": 1,
   "id": "032ac7f6-4438-4267-b458-3b23468b85b9",
   "metadata": {},
   "outputs": [],
   "source": [
    "### Indexes"
   ]
  },
  {
   "cell_type": "code",
   "execution_count": 11,
   "id": "28119449-d949-4bb2-b36f-9b27d5854f23",
   "metadata": {},
   "outputs": [],
   "source": [
    "in_1 = [100,10,152,101,33]"
   ]
  },
  {
   "cell_type": "code",
   "execution_count": 13,
   "id": "9a78b8e1-eb2b-41f3-b072-8fde2922f005",
   "metadata": {},
   "outputs": [
    {
     "data": {
      "text/plain": [
       "[100, 10, 152, 101, 33]"
      ]
     },
     "execution_count": 13,
     "metadata": {},
     "output_type": "execute_result"
    }
   ],
   "source": [
    "in_1"
   ]
  },
  {
   "cell_type": "code",
   "execution_count": 23,
   "id": "670678e4-aa69-4413-b14f-11432547dd69",
   "metadata": {},
   "outputs": [],
   "source": [
    "op=[12,\"miara\",19.2,[18,7,2024]]"
   ]
  },
  {
   "cell_type": "code",
   "execution_count": 25,
   "id": "d248c384-33ae-416f-8db2-c9a5feae5aa3",
   "metadata": {},
   "outputs": [
    {
     "data": {
      "text/plain": [
       "[12, 'miara', 19.2, [18, 7, 2024]]"
      ]
     },
     "execution_count": 25,
     "metadata": {},
     "output_type": "execute_result"
    }
   ],
   "source": [
    "op"
   ]
  },
  {
   "cell_type": "code",
   "execution_count": 21,
   "id": "b40dc35e-cf96-48d1-8aec-373f83ae1e77",
   "metadata": {},
   "outputs": [
    {
     "data": {
      "text/plain": [
       "'miara'"
      ]
     },
     "execution_count": 21,
     "metadata": {},
     "output_type": "execute_result"
    }
   ],
   "source": [
    "op[1]"
   ]
  },
  {
   "cell_type": "code",
   "execution_count": 23,
   "id": "290d2cf1-00e4-4db1-b271-4b62da82e2e6",
   "metadata": {},
   "outputs": [
    {
     "data": {
      "text/plain": [
       "list"
      ]
     },
     "execution_count": 23,
     "metadata": {},
     "output_type": "execute_result"
    }
   ],
   "source": [
    "type(op)"
   ]
  },
  {
   "cell_type": "code",
   "execution_count": 25,
   "id": "d433cf12-ef09-4000-ac66-ee742ddc71a0",
   "metadata": {},
   "outputs": [
    {
     "data": {
      "text/plain": [
       "[12, 'miara', 19.2, [18, 7, 2024]]"
      ]
     },
     "execution_count": 25,
     "metadata": {},
     "output_type": "execute_result"
    }
   ],
   "source": [
    "op"
   ]
  },
  {
   "cell_type": "code",
   "execution_count": 27,
   "id": "9b25538d-3b4e-4b1a-9007-c4b5265d9e14",
   "metadata": {},
   "outputs": [
    {
     "data": {
      "text/plain": [
       "[18, 7, 2024]"
      ]
     },
     "execution_count": 27,
     "metadata": {},
     "output_type": "execute_result"
    }
   ],
   "source": [
    "op[3]"
   ]
  },
  {
   "cell_type": "code",
   "execution_count": 29,
   "id": "cc3e6d03-a112-4011-9d2d-4caa6d58dbca",
   "metadata": {},
   "outputs": [
    {
     "data": {
      "text/plain": [
       "[12, 'miara', 19.2, [18, 7, 2024]]"
      ]
     },
     "execution_count": 29,
     "metadata": {},
     "output_type": "execute_result"
    }
   ],
   "source": [
    "op"
   ]
  },
  {
   "cell_type": "code",
   "execution_count": 31,
   "id": "5c072fde-d186-4e5f-848f-862b53c3d79d",
   "metadata": {},
   "outputs": [
    {
     "data": {
      "text/plain": [
       "18"
      ]
     },
     "execution_count": 31,
     "metadata": {},
     "output_type": "execute_result"
    }
   ],
   "source": [
    "op[3][0]"
   ]
  },
  {
   "cell_type": "code",
   "execution_count": 33,
   "id": "cc53ee2e-834d-46fd-bd91-e24107fa1acf",
   "metadata": {},
   "outputs": [
    {
     "data": {
      "text/plain": [
       "4"
      ]
     },
     "execution_count": 33,
     "metadata": {},
     "output_type": "execute_result"
    }
   ],
   "source": [
    "len(op)    "
   ]
  },
  {
   "cell_type": "code",
   "execution_count": 43,
   "id": "e0f194b9-185c-4b50-9837-a1bdb223d488",
   "metadata": {},
   "outputs": [
    {
     "data": {
      "text/plain": [
       "3"
      ]
     },
     "execution_count": 43,
     "metadata": {},
     "output_type": "execute_result"
    }
   ],
   "source": [
    "len(op [3])"
   ]
  },
  {
   "cell_type": "code",
   "execution_count": 45,
   "id": "33b2e43c-4655-441a-8cd0-94e3058e175d",
   "metadata": {},
   "outputs": [
    {
     "data": {
      "text/plain": [
       "[12, 'miara', 19.2, [18, 7, 2024]]"
      ]
     },
     "execution_count": 45,
     "metadata": {},
     "output_type": "execute_result"
    }
   ],
   "source": [
    "op"
   ]
  },
  {
   "cell_type": "code",
   "execution_count": 47,
   "id": "7c7a0a30-c7d6-4401-93e9-fe5ab6d7e9be",
   "metadata": {},
   "outputs": [],
   "source": [
    "#editing the data in existing list\n",
    "op[1]=\"miara kattar\""
   ]
  },
  {
   "cell_type": "code",
   "execution_count": 49,
   "id": "4c87fd47-4c76-4cdc-a97d-5986d5ce1569",
   "metadata": {},
   "outputs": [
    {
     "data": {
      "text/plain": [
       "[12, 'miara kattar', 19.2, [18, 7, 2024]]"
      ]
     },
     "execution_count": 49,
     "metadata": {},
     "output_type": "execute_result"
    }
   ],
   "source": [
    "op"
   ]
  },
  {
   "cell_type": "code",
   "execution_count": 51,
   "id": "a5cf69ee-dd06-4564-9ea5-4701bc3fbba8",
   "metadata": {},
   "outputs": [],
   "source": [
    "test=[12,63,387,\"yaas\",[12.0,8829,\"majo\"],\"arnold\",op]"
   ]
  },
  {
   "cell_type": "code",
   "execution_count": 53,
   "id": "f7291c33-531b-4055-9675-a6e303e5dddd",
   "metadata": {},
   "outputs": [
    {
     "data": {
      "text/plain": [
       "[12,\n",
       " 63,\n",
       " 387,\n",
       " 'yaas',\n",
       " [12.0, 8829, 'majo'],\n",
       " 'arnold',\n",
       " [12, 'miara kattar', 19.2, [18, 7, 2024]]]"
      ]
     },
     "execution_count": 53,
     "metadata": {},
     "output_type": "execute_result"
    }
   ],
   "source": [
    "test"
   ]
  },
  {
   "cell_type": "code",
   "execution_count": 55,
   "id": "b2729280-f3ca-4b7e-81ca-30bb6eee3df7",
   "metadata": {},
   "outputs": [],
   "source": [
    "test[3]=\"yashoo\""
   ]
  },
  {
   "cell_type": "code",
   "execution_count": 59,
   "id": "7bdf0e7c-f20b-4625-b8db-c5b7547eb41c",
   "metadata": {},
   "outputs": [
    {
     "data": {
      "text/plain": [
       "[12,\n",
       " 63,\n",
       " 387,\n",
       " 'yashoo',\n",
       " [12.0, 8829, 'majo'],\n",
       " 'arnold',\n",
       " [12, 'miara kattar', 19.2, [18, 7, 2024]]]"
      ]
     },
     "execution_count": 59,
     "metadata": {},
     "output_type": "execute_result"
    }
   ],
   "source": [
    "test"
   ]
  },
  {
   "cell_type": "code",
   "execution_count": 61,
   "id": "69dc081a-6fec-43ec-84e2-e384075c52cd",
   "metadata": {},
   "outputs": [],
   "source": [
    "test[-1][-1][2]=24"
   ]
  },
  {
   "cell_type": "code",
   "execution_count": 63,
   "id": "9a122688-ca34-46dd-a538-f7d2bce00abd",
   "metadata": {},
   "outputs": [
    {
     "data": {
      "text/plain": [
       "[12, 'miara kattar', 19.2, [18, 7, 24]]"
      ]
     },
     "execution_count": 63,
     "metadata": {},
     "output_type": "execute_result"
    }
   ],
   "source": [
    "test[-1]"
   ]
  },
  {
   "cell_type": "code",
   "execution_count": 65,
   "id": "8fe8f7ec-8e42-4382-9659-98ec94e4f2e0",
   "metadata": {},
   "outputs": [],
   "source": [
    "## Slicing : Acessing more than 1 data point"
   ]
  },
  {
   "cell_type": "code",
   "execution_count": 67,
   "id": "b1280a16-87fa-44e5-85ba-62910953a34f",
   "metadata": {},
   "outputs": [
    {
     "data": {
      "text/plain": [
       "[12, 'miara kattar', 19.2, [18, 7, 24]]"
      ]
     },
     "execution_count": 67,
     "metadata": {},
     "output_type": "execute_result"
    }
   ],
   "source": [
    "op"
   ]
  },
  {
   "cell_type": "code",
   "execution_count": 69,
   "id": "f65fa121-e749-47dd-acb7-38eb2fdc2182",
   "metadata": {},
   "outputs": [
    {
     "data": {
      "text/plain": [
       "[100, 10, 152, 101, 33]"
      ]
     },
     "execution_count": 69,
     "metadata": {},
     "output_type": "execute_result"
    }
   ],
   "source": [
    "in_1"
   ]
  },
  {
   "cell_type": "code",
   "execution_count": 73,
   "id": "03778746-515a-4ff3-a371-2a453d93912e",
   "metadata": {},
   "outputs": [
    {
     "data": {
      "text/plain": [
       "[10, 152]"
      ]
     },
     "execution_count": 73,
     "metadata": {},
     "output_type": "execute_result"
    }
   ],
   "source": [
    "in_1[1:3]\n",
    "##slicing give the index value/position of the point next upto which u want to select"
   ]
  },
  {
   "cell_type": "code",
   "execution_count": 75,
   "id": "a8ac7d0d-be68-40d6-bfbb-dd39c5934954",
   "metadata": {},
   "outputs": [
    {
     "data": {
      "text/plain": [
       "[12,\n",
       " 63,\n",
       " 387,\n",
       " 'yashoo',\n",
       " [12.0, 8829, 'majo'],\n",
       " 'arnold',\n",
       " [12, 'miara kattar', 19.2, [18, 7, 24]]]"
      ]
     },
     "execution_count": 75,
     "metadata": {},
     "output_type": "execute_result"
    }
   ],
   "source": [
    "test"
   ]
  },
  {
   "cell_type": "code",
   "execution_count": 79,
   "id": "ca7d332a-d93b-4b9e-9e57-6b9b7bbf66c7",
   "metadata": {},
   "outputs": [
    {
     "data": {
      "text/plain": [
       "['yashoo',\n",
       " [12.0, 8829, 'majo'],\n",
       " 'arnold',\n",
       " [12, 'miara kattar', 19.2, [18, 7, 24]]]"
      ]
     },
     "execution_count": 79,
     "metadata": {},
     "output_type": "execute_result"
    }
   ],
   "source": [
    "test[3:7]"
   ]
  },
  {
   "cell_type": "code",
   "execution_count": 81,
   "id": "03ca27e1-9e54-4f07-adf9-0f07fa6ad988",
   "metadata": {},
   "outputs": [
    {
     "data": {
      "text/plain": [
       "['yashoo', 'arnold']"
      ]
     },
     "execution_count": 81,
     "metadata": {},
     "output_type": "execute_result"
    }
   ],
   "source": [
    "test[3:7:2]"
   ]
  },
  {
   "cell_type": "code",
   "execution_count": 1,
   "id": "598388b5-c8d2-41d7-87a1-0061ee1137cb",
   "metadata": {},
   "outputs": [],
   "source": [
    "opp=[200,220,219,215,198,187,179,219,203,196]"
   ]
  },
  {
   "cell_type": "code",
   "execution_count": 3,
   "id": "3870b567-b36c-45fe-a86d-c06d459a5675",
   "metadata": {},
   "outputs": [
    {
     "data": {
      "text/plain": [
       "[200, 220, 219, 215, 198, 187, 179, 219, 203, 196]"
      ]
     },
     "execution_count": 3,
     "metadata": {},
     "output_type": "execute_result"
    }
   ],
   "source": [
    "opp"
   ]
  },
  {
   "cell_type": "code",
   "execution_count": 7,
   "id": "3f0a72e8-3904-42e3-9931-791f24f6570b",
   "metadata": {},
   "outputs": [
    {
     "data": {
      "text/plain": [
       "[200, 215, 179]"
      ]
     },
     "execution_count": 7,
     "metadata": {},
     "output_type": "execute_result"
    }
   ],
   "source": [
    "opp[0:7:3]"
   ]
  },
  {
   "cell_type": "code",
   "execution_count": 15,
   "id": "98b8415c-cf28-4731-8eac-67764761a2c6",
   "metadata": {},
   "outputs": [
    {
     "data": {
      "text/plain": [
       "[179, 215, 200]"
      ]
     },
     "execution_count": 15,
     "metadata": {},
     "output_type": "execute_result"
    }
   ],
   "source": [
    "opp[6::-3]"
   ]
  },
  {
   "cell_type": "code",
   "execution_count": 55,
   "id": "7d5b99b3-e27d-4310-bc50-3349ef44c914",
   "metadata": {},
   "outputs": [],
   "source": [
    "li=[12,34,45,78,0.8,0.12,0.5651,\"permeability\",\"porosity\",[\"second_list\",4334,2323,[\"dsfdsf\"]],opp]"
   ]
  },
  {
   "cell_type": "code",
   "execution_count": 57,
   "id": "68b28c70-60f1-4673-b124-8d3dba338990",
   "metadata": {},
   "outputs": [
    {
     "data": {
      "text/plain": [
       "[12,\n",
       " 34,\n",
       " 45,\n",
       " 78,\n",
       " 0.8,\n",
       " 0.12,\n",
       " 0.5651,\n",
       " 'permeability',\n",
       " 'porosity',\n",
       " ['second_list', 4334, 2323, ['dsfdsf']],\n",
       " [200, 220, 219, 215, 198, 187, 179, 219, 203, 196]]"
      ]
     },
     "execution_count": 57,
     "metadata": {},
     "output_type": "execute_result"
    }
   ],
   "source": [
    "li"
   ]
  },
  {
   "cell_type": "code",
   "execution_count": 35,
   "id": "c22f5967-39f4-41a2-be27-f8344c2060ca",
   "metadata": {},
   "outputs": [
    {
     "data": {
      "text/plain": [
       "['second_list', 4334, 2323, ['dsfdsf']]"
      ]
     },
     "execution_count": 35,
     "metadata": {},
     "output_type": "execute_result"
    }
   ],
   "source": [
    "li[9]"
   ]
  },
  {
   "cell_type": "code",
   "execution_count": 51,
   "id": "ff832b7d-b0aa-426e-a7ec-07b8680cc8bd",
   "metadata": {},
   "outputs": [
    {
     "data": {
      "text/plain": [
       "[2323, 'second_list']"
      ]
     },
     "execution_count": 51,
     "metadata": {},
     "output_type": "execute_result"
    }
   ],
   "source": [
    "li[9][-2::-2]"
   ]
  },
  {
   "cell_type": "code",
   "execution_count": 53,
   "id": "0c9ed1e7-b5dd-4a51-a451-f1ccc8bd10a0",
   "metadata": {},
   "outputs": [
    {
     "data": {
      "text/plain": [
       "[12, 'miara', 19.2, [18, 7, 2024]]"
      ]
     },
     "execution_count": 53,
     "metadata": {},
     "output_type": "execute_result"
    }
   ],
   "source": []
  },
  {
   "cell_type": "code",
   "execution_count": 69,
   "id": "85ebe7d3-fd44-4d03-8e85-2c098ff9fe9f",
   "metadata": {},
   "outputs": [
    {
     "data": {
      "text/plain": [
       "[203, 187]"
      ]
     },
     "execution_count": 69,
     "metadata": {},
     "output_type": "execute_result"
    }
   ],
   "source": [
    "li[10][-2:-6:-3]"
   ]
  },
  {
   "cell_type": "code",
   "execution_count": 71,
   "id": "edc68227-1cfe-43d4-aedb-bf0988f3cc17",
   "metadata": {},
   "outputs": [
    {
     "data": {
      "text/plain": [
       "[12,\n",
       " 34,\n",
       " 45,\n",
       " 78,\n",
       " 0.8,\n",
       " 0.12,\n",
       " 0.5651,\n",
       " 'permeability',\n",
       " 'porosity',\n",
       " ['second_list', 4334, 2323, ['dsfdsf']],\n",
       " [200, 220, 219, 215, 198, 187, 179, 219, 203, 196]]"
      ]
     },
     "execution_count": 71,
     "metadata": {},
     "output_type": "execute_result"
    }
   ],
   "source": [
    "li"
   ]
  },
  {
   "cell_type": "code",
   "execution_count": 73,
   "id": "b587dc8e-7a6a-4d52-b648-c3407b57e53b",
   "metadata": {},
   "outputs": [
    {
     "data": {
      "text/plain": [
       "[200, 220, 219, 215, 198, 187, 179, 219, 203, 196]"
      ]
     },
     "execution_count": 73,
     "metadata": {},
     "output_type": "execute_result"
    }
   ],
   "source": [
    "opp"
   ]
  },
  {
   "cell_type": "code",
   "execution_count": 75,
   "id": "602ece7f-335f-4ec5-884d-fa75cfd27ada",
   "metadata": {},
   "outputs": [],
   "source": [
    "opp.append(\"training\")"
   ]
  },
  {
   "cell_type": "code",
   "execution_count": 77,
   "id": "2dbd2919-909a-4838-8a19-e71be046197e",
   "metadata": {},
   "outputs": [
    {
     "data": {
      "text/plain": [
       "[200, 220, 219, 215, 198, 187, 179, 219, 203, 196, 'training']"
      ]
     },
     "execution_count": 77,
     "metadata": {},
     "output_type": "execute_result"
    }
   ],
   "source": [
    "opp"
   ]
  },
  {
   "cell_type": "code",
   "execution_count": 81,
   "id": "2db48819-7fee-4786-bee7-d20c659e8929",
   "metadata": {},
   "outputs": [],
   "source": [
    "opp.insert(0,\"numbers\")"
   ]
  },
  {
   "cell_type": "code",
   "execution_count": 83,
   "id": "0fc58ef4-411a-4cbe-8c2d-4be157b71ee8",
   "metadata": {},
   "outputs": [
    {
     "data": {
      "text/plain": [
       "['numbers', 200, 220, 219, 215, 198, 187, 179, 219, 203, 196, 'training']"
      ]
     },
     "execution_count": 83,
     "metadata": {},
     "output_type": "execute_result"
    }
   ],
   "source": [
    "opp"
   ]
  },
  {
   "cell_type": "code",
   "execution_count": 85,
   "id": "c981ff18-bc03-4ff6-b605-61cb1b0c7263",
   "metadata": {},
   "outputs": [],
   "source": [
    "a=[1,2,3]\n",
    "b=[4,5,6]"
   ]
  },
  {
   "cell_type": "code",
   "execution_count": 87,
   "id": "4cdde072-9d27-481d-8352-85fb307c0cb1",
   "metadata": {},
   "outputs": [
    {
     "data": {
      "text/plain": [
       "[1, 2, 3, 4, 5, 6]"
      ]
     },
     "execution_count": 87,
     "metadata": {},
     "output_type": "execute_result"
    }
   ],
   "source": [
    "a+b"
   ]
  },
  {
   "cell_type": "code",
   "execution_count": 89,
   "id": "bfc2cfe4-b285-44e5-bc6d-3b6fe87d97a8",
   "metadata": {},
   "outputs": [
    {
     "data": {
      "text/plain": [
       "[1, 2, 3, 1, 2, 3]"
      ]
     },
     "execution_count": 89,
     "metadata": {},
     "output_type": "execute_result"
    }
   ],
   "source": [
    "a*2"
   ]
  },
  {
   "cell_type": "code",
   "execution_count": null,
   "id": "303475e0-e8f5-45a9-b4e2-5f2f2c0b6cd1",
   "metadata": {},
   "outputs": [],
   "source": []
  }
 ],
 "metadata": {
  "kernelspec": {
   "display_name": "Python 3 (ipykernel)",
   "language": "python",
   "name": "python3"
  },
  "language_info": {
   "codemirror_mode": {
    "name": "ipython",
    "version": 3
   },
   "file_extension": ".py",
   "mimetype": "text/x-python",
   "name": "python",
   "nbconvert_exporter": "python",
   "pygments_lexer": "ipython3",
   "version": "3.12.4"
  }
 },
 "nbformat": 4,
 "nbformat_minor": 5
}
