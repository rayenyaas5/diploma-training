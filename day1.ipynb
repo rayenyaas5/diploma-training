{
 "cells": [
  {
   "cell_type": "code",
   "execution_count": 2,
   "id": "171b54e2-194a-427d-99cb-4309008513d0",
   "metadata": {},
   "outputs": [
    {
     "name": "stdout",
     "output_type": "stream",
     "text": [
      "hello world\n"
     ]
    }
   ],
   "source": [
    "print(\"hello world\")      "
   ]
  },
  {
   "cell_type": "code",
   "execution_count": 4,
   "id": "3a08adc0-fdcf-4f27-ac7c-caf8fda2a87e",
   "metadata": {},
   "outputs": [
    {
     "name": "stdout",
     "output_type": "stream",
     "text": [
      "first day diploma training\n"
     ]
    }
   ],
   "source": [
    "print(\"first day diploma training\")"
   ]
  },
  {
   "cell_type": "code",
   "execution_count": 6,
   "id": "5c10f83b-d5c2-476a-9b0d-04429b56dd41",
   "metadata": {},
   "outputs": [
    {
     "name": "stdout",
     "output_type": "stream",
     "text": [
      "complete the course and shine\n"
     ]
    }
   ],
   "source": [
    "print(\"complete the course and shine\")"
   ]
  },
  {
   "cell_type": "code",
   "execution_count": 10,
   "id": "3145fbaa-38ea-4199-ba85-2adba7f5b737",
   "metadata": {},
   "outputs": [
    {
     "name": "stdout",
     "output_type": "stream",
     "text": [
      "The name is Miara kattar\n"
     ]
    }
   ],
   "source": [
    "print(\"The name is Miara kattar\")"
   ]
  },
  {
   "cell_type": "code",
   "execution_count": null,
   "id": "e2291549-b9e4-4f95-bf1e-3f5f8133b468",
   "metadata": {},
   "outputs": [],
   "source": []
  }
 ],
 "metadata": {
  "kernelspec": {
   "display_name": "Python 3 (ipykernel)",
   "language": "python",
   "name": "python3"
  },
  "language_info": {
   "codemirror_mode": {
    "name": "ipython",
    "version": 3
   },
   "file_extension": ".py",
   "mimetype": "text/x-python",
   "name": "python",
   "nbconvert_exporter": "python",
   "pygments_lexer": "ipython3",
   "version": "3.12.4"
  }
 },
 "nbformat": 4,
 "nbformat_minor": 5
}
