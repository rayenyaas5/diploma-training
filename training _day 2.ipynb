{
 "cells": [
  {
   "cell_type": "code",
   "execution_count": 1,
   "id": "37d3f81e-0f44-4b67-9f2f-dadeb22ee153",
   "metadata": {},
   "outputs": [
    {
     "name": "stdout",
     "output_type": "stream",
     "text": [
      "day 2\n"
     ]
    }
   ],
   "source": [
    "print(\"day 2\")"
   ]
  },
  {
   "cell_type": "code",
   "execution_count": 5,
   "id": "af7da94c-37f6-46fd-903f-651ecef7d3a1",
   "metadata": {},
   "outputs": [
    {
     "name": "stdout",
     "output_type": "stream",
     "text": [
      "day 2 \n",
      "for new line\n"
     ]
    }
   ],
   "source": [
    "print(\"day 2 \\nfor new line\")"
   ]
  },
  {
   "cell_type": "markdown",
   "id": "9558f65c-0001-4cf7-b3da-af8086833fa8",
   "metadata": {},
   "source": [
    "## Data Types\n",
    "INTEGER - whole no\n",
    "FLOATS - decimal\n",
    "STRINGS - anything enclosed in \"\",''(set of characters can be no or alphabets,or combi or anything)\"\n",
    "BOOLEANS - True / False"
   ]
  },
  {
   "cell_type": "code",
   "execution_count": 8,
   "id": "297ffc14-767e-4114-9c2e-faab95ff5833",
   "metadata": {},
   "outputs": [
    {
     "data": {
      "text/plain": [
       "10"
      ]
     },
     "execution_count": 8,
     "metadata": {},
     "output_type": "execute_result"
    }
   ],
   "source": [
    "10"
   ]
  },
  {
   "cell_type": "code",
   "execution_count": 10,
   "id": "02c01092-6330-425c-a234-9640a0219ca8",
   "metadata": {},
   "outputs": [
    {
     "data": {
      "text/plain": [
       "int"
      ]
     },
     "execution_count": 10,
     "metadata": {},
     "output_type": "execute_result"
    }
   ],
   "source": [
    "type(10)"
   ]
  },
  {
   "cell_type": "code",
   "execution_count": 12,
   "id": "37dbdd84-81c0-4c45-be15-0e45ec33634a",
   "metadata": {},
   "outputs": [
    {
     "data": {
      "text/plain": [
       "10.1"
      ]
     },
     "execution_count": 12,
     "metadata": {},
     "output_type": "execute_result"
    }
   ],
   "source": [
    "10.1"
   ]
  },
  {
   "cell_type": "code",
   "execution_count": 14,
   "id": "2c60eae1-2d50-4e07-a58f-ac5724412f1f",
   "metadata": {},
   "outputs": [
    {
     "data": {
      "text/plain": [
       "float"
      ]
     },
     "execution_count": 14,
     "metadata": {},
     "output_type": "execute_result"
    }
   ],
   "source": [
    "type(12.7)"
   ]
  },
  {
   "cell_type": "code",
   "execution_count": 16,
   "id": "66aafaf8-e79f-4cce-8cb9-072f3d53b5d4",
   "metadata": {},
   "outputs": [
    {
     "data": {
      "text/plain": [
       "'yaaswanth'"
      ]
     },
     "execution_count": 16,
     "metadata": {},
     "output_type": "execute_result"
    }
   ],
   "source": [
    "\"yaaswanth\""
   ]
  },
  {
   "cell_type": "code",
   "execution_count": 18,
   "id": "71adc243-cbda-4113-8631-414c7bb673d8",
   "metadata": {},
   "outputs": [
    {
     "data": {
      "text/plain": [
       "'yaaswanth'"
      ]
     },
     "execution_count": 18,
     "metadata": {},
     "output_type": "execute_result"
    }
   ],
   "source": [
    "'yaaswanth'"
   ]
  },
  {
   "cell_type": "code",
   "execution_count": 20,
   "id": "9255d947-d836-4024-9aae-2aa8567eed57",
   "metadata": {},
   "outputs": [
    {
     "data": {
      "text/plain": [
       "str"
      ]
     },
     "execution_count": 20,
     "metadata": {},
     "output_type": "execute_result"
    }
   ],
   "source": [
    "type(\"yaaswanth rayen\")"
   ]
  },
  {
   "cell_type": "code",
   "execution_count": 22,
   "id": "503fe289-2d93-4fc5-b500-c4149c241813",
   "metadata": {},
   "outputs": [
    {
     "data": {
      "text/plain": [
       "'yaaswanth 32'"
      ]
     },
     "execution_count": 22,
     "metadata": {},
     "output_type": "execute_result"
    }
   ],
   "source": [
    "'yaaswanth 32'"
   ]
  },
  {
   "cell_type": "code",
   "execution_count": 24,
   "id": "b91c2b7e-cf7f-41bf-aa36-ce7338a633e9",
   "metadata": {},
   "outputs": [
    {
     "ename": "NameError",
     "evalue": "name 'true' is not defined",
     "output_type": "error",
     "traceback": [
      "\u001b[1;31m---------------------------------------------------------------------------\u001b[0m",
      "\u001b[1;31mNameError\u001b[0m                                 Traceback (most recent call last)",
      "Cell \u001b[1;32mIn[24], line 1\u001b[0m\n\u001b[1;32m----> 1\u001b[0m \u001b[43mtrue\u001b[49m\n",
      "\u001b[1;31mNameError\u001b[0m: name 'true' is not defined"
     ]
    }
   ],
   "source": [
    "true"
   ]
  },
  {
   "cell_type": "code",
   "execution_count": 26,
   "id": "a6c38dbe-18b0-4099-b907-7d51d8c98bef",
   "metadata": {},
   "outputs": [
    {
     "data": {
      "text/plain": [
       "True"
      ]
     },
     "execution_count": 26,
     "metadata": {},
     "output_type": "execute_result"
    }
   ],
   "source": [
    "True"
   ]
  },
  {
   "cell_type": "code",
   "execution_count": 28,
   "id": "cb788774-e3a7-4800-b2ba-ead66cd4d86c",
   "metadata": {},
   "outputs": [
    {
     "ename": "NameError",
     "evalue": "name 'false' is not defined",
     "output_type": "error",
     "traceback": [
      "\u001b[1;31m---------------------------------------------------------------------------\u001b[0m",
      "\u001b[1;31mNameError\u001b[0m                                 Traceback (most recent call last)",
      "Cell \u001b[1;32mIn[28], line 1\u001b[0m\n\u001b[1;32m----> 1\u001b[0m \u001b[38;5;28mtype\u001b[39m(\u001b[43mfalse\u001b[49m)\n",
      "\u001b[1;31mNameError\u001b[0m: name 'false' is not defined"
     ]
    }
   ],
   "source": [
    "type(false)"
   ]
  },
  {
   "cell_type": "code",
   "execution_count": 30,
   "id": "464d9463-403e-45aa-b098-dd7830dd2f79",
   "metadata": {},
   "outputs": [
    {
     "data": {
      "text/plain": [
       "bool"
      ]
     },
     "execution_count": 30,
     "metadata": {},
     "output_type": "execute_result"
    }
   ],
   "source": [
    "type(False)"
   ]
  },
  {
   "cell_type": "code",
   "execution_count": 32,
   "id": "c91ce39f-5822-4168-afa4-edd9630f5867",
   "metadata": {},
   "outputs": [
    {
     "data": {
      "text/plain": [
       "50"
      ]
     },
     "execution_count": 32,
     "metadata": {},
     "output_type": "execute_result"
    }
   ],
   "source": [
    "5*10"
   ]
  },
  {
   "cell_type": "code",
   "execution_count": 34,
   "id": "6559b5b0-2635-422d-8d16-02512508ed3e",
   "metadata": {},
   "outputs": [
    {
     "data": {
      "text/plain": [
       "30"
      ]
     },
     "execution_count": 34,
     "metadata": {},
     "output_type": "execute_result"
    }
   ],
   "source": [
    "(10+5)*2"
   ]
  },
  {
   "cell_type": "code",
   "execution_count": 36,
   "id": "e5eb2f73-268e-4214-aa18-19c720ec83f7",
   "metadata": {},
   "outputs": [
    {
     "data": {
      "text/plain": [
       "4"
      ]
     },
     "execution_count": 36,
     "metadata": {},
     "output_type": "execute_result"
    }
   ],
   "source": [
    "2**2"
   ]
  },
  {
   "cell_type": "code",
   "execution_count": 38,
   "id": "36edce9e-5018-4e2c-8914-699fcda4cab4",
   "metadata": {},
   "outputs": [
    {
     "data": {
      "text/plain": [
       "'18'"
      ]
     },
     "execution_count": 38,
     "metadata": {},
     "output_type": "execute_result"
    }
   ],
   "source": [
    "\"1\"+\"8\""
   ]
  },
  {
   "cell_type": "code",
   "execution_count": 1,
   "id": "6026fb6c-27a2-4a1c-bde0-5f013454900e",
   "metadata": {},
   "outputs": [
    {
     "data": {
      "text/plain": [
       "25"
      ]
     },
     "execution_count": 1,
     "metadata": {},
     "output_type": "execute_result"
    }
   ],
   "source": [
    "15 + 10"
   ]
  },
  {
   "cell_type": "code",
   "execution_count": 3,
   "id": "13fdbad9-5e18-4d49-b607-7448538c183d",
   "metadata": {},
   "outputs": [
    {
     "ename": "TypeError",
     "evalue": "unsupported operand type(s) for -: 'str' and 'str'",
     "output_type": "error",
     "traceback": [
      "\u001b[1;31m---------------------------------------------------------------------------\u001b[0m",
      "\u001b[1;31mTypeError\u001b[0m                                 Traceback (most recent call last)",
      "Cell \u001b[1;32mIn[3], line 1\u001b[0m\n\u001b[1;32m----> 1\u001b[0m \u001b[38;5;124;43m\"\u001b[39;49m\u001b[38;5;124;43m11\u001b[39;49m\u001b[38;5;124;43m\"\u001b[39;49m\u001b[43m \u001b[49m\u001b[38;5;241;43m-\u001b[39;49m\u001b[38;5;124;43m\"\u001b[39;49m\u001b[38;5;124;43m0\u001b[39;49m\u001b[38;5;124;43m\"\u001b[39;49m\n",
      "\u001b[1;31mTypeError\u001b[0m: unsupported operand type(s) for -: 'str' and 'str'"
     ]
    }
   ],
   "source": [
    "\"11\" -\"0\""
   ]
  },
  {
   "cell_type": "code",
   "execution_count": 5,
   "id": "01f5e247-d471-4a5e-a7fa-98f5c89a8dad",
   "metadata": {},
   "outputs": [
    {
     "ename": "TypeError",
     "evalue": "unsupported operand type(s) for -: 'str' and 'str'",
     "output_type": "error",
     "traceback": [
      "\u001b[1;31m---------------------------------------------------------------------------\u001b[0m",
      "\u001b[1;31mTypeError\u001b[0m                                 Traceback (most recent call last)",
      "Cell \u001b[1;32mIn[5], line 1\u001b[0m\n\u001b[1;32m----> 1\u001b[0m \u001b[38;5;124;43m\"\u001b[39;49m\u001b[38;5;124;43m10\u001b[39;49m\u001b[38;5;124;43m\"\u001b[39;49m\u001b[38;5;241;43m-\u001b[39;49m\u001b[38;5;124;43m\"\u001b[39;49m\u001b[38;5;124;43m1\u001b[39;49m\u001b[38;5;124;43m\"\u001b[39;49m\n",
      "\u001b[1;31mTypeError\u001b[0m: unsupported operand type(s) for -: 'str' and 'str'"
     ]
    }
   ],
   "source": [
    "\"10\"-\"1\""
   ]
  },
  {
   "cell_type": "code",
   "execution_count": 7,
   "id": "6eb52473-eb90-4b92-97a4-333a01c7cce2",
   "metadata": {},
   "outputs": [
    {
     "data": {
      "text/plain": [
       "'111'"
      ]
     },
     "execution_count": 7,
     "metadata": {},
     "output_type": "execute_result"
    }
   ],
   "source": [
    "\"11\"+\"1\""
   ]
  },
  {
   "cell_type": "code",
   "execution_count": 9,
   "id": "c06241ce-26b3-4d77-b3b3-d4c1a3ddf6ce",
   "metadata": {},
   "outputs": [
    {
     "data": {
      "text/plain": [
       "0"
      ]
     },
     "execution_count": 9,
     "metadata": {},
     "output_type": "execute_result"
    }
   ],
   "source": [
    "5%1"
   ]
  },
  {
   "cell_type": "code",
   "execution_count": 11,
   "id": "dd82a098-4788-4fe0-97d2-d550121c15fc",
   "metadata": {},
   "outputs": [
    {
     "data": {
      "text/plain": [
       "1"
      ]
     },
     "execution_count": 11,
     "metadata": {},
     "output_type": "execute_result"
    }
   ],
   "source": [
    "5%2"
   ]
  },
  {
   "cell_type": "code",
   "execution_count": 13,
   "id": "68292efe-3b77-4a19-99fe-ade043da9d02",
   "metadata": {},
   "outputs": [
    {
     "data": {
      "text/plain": [
       "5"
      ]
     },
     "execution_count": 13,
     "metadata": {},
     "output_type": "execute_result"
    }
   ],
   "source": [
    "10//2"
   ]
  },
  {
   "cell_type": "code",
   "execution_count": 15,
   "id": "c241db85-b3c3-4a4e-9480-2d35a2df5c11",
   "metadata": {},
   "outputs": [
    {
     "data": {
      "text/plain": [
       "7"
      ]
     },
     "execution_count": 15,
     "metadata": {},
     "output_type": "execute_result"
    }
   ],
   "source": [
    "15//2"
   ]
  },
  {
   "cell_type": "code",
   "execution_count": 17,
   "id": "2e2c76a0-9133-4bea-ac2a-b65701f360be",
   "metadata": {},
   "outputs": [],
   "source": [
    "## /division,%remainder,// quotion"
   ]
  },
  {
   "cell_type": "code",
   "execution_count": 19,
   "id": "f071b86a-8dfc-42bb-ad46-b39c03785e24",
   "metadata": {},
   "outputs": [
    {
     "data": {
      "text/plain": [
       "'555'"
      ]
     },
     "execution_count": 19,
     "metadata": {},
     "output_type": "execute_result"
    }
   ],
   "source": [
    "\"5\"*3\n",
    "## is '5'+'5'+'5' "
   ]
  },
  {
   "cell_type": "code",
   "execution_count": 21,
   "id": "ccf82e4a-afff-4aaa-b1b5-23e5fad08877",
   "metadata": {},
   "outputs": [
    {
     "data": {
      "text/plain": [
       "'Miara Miara '"
      ]
     },
     "execution_count": 21,
     "metadata": {},
     "output_type": "execute_result"
    }
   ],
   "source": [
    "\"Miara \"*2"
   ]
  },
  {
   "cell_type": "code",
   "execution_count": 23,
   "id": "920d0901-57a5-44dc-9be5-d290690756f9",
   "metadata": {},
   "outputs": [
    {
     "data": {
      "text/plain": [
       "False"
      ]
     },
     "execution_count": 23,
     "metadata": {},
     "output_type": "execute_result"
    }
   ],
   "source": [
    "10>15"
   ]
  },
  {
   "cell_type": "code",
   "execution_count": 25,
   "id": "28508062-6845-4055-bfde-b1aa32c8c15c",
   "metadata": {},
   "outputs": [
    {
     "data": {
      "text/plain": [
       "True"
      ]
     },
     "execution_count": 25,
     "metadata": {},
     "output_type": "execute_result"
    }
   ],
   "source": [
    "100>3"
   ]
  },
  {
   "cell_type": "code",
   "execution_count": 27,
   "id": "cccabb1a-84f2-483a-8fda-4e62839b0400",
   "metadata": {},
   "outputs": [
    {
     "data": {
      "text/plain": [
       "True"
      ]
     },
     "execution_count": 27,
     "metadata": {},
     "output_type": "execute_result"
    }
   ],
   "source": [
    "5==5"
   ]
  },
  {
   "cell_type": "code",
   "execution_count": 29,
   "id": "deb8cd6f-ec60-4528-bb4a-2ed5a11a0775",
   "metadata": {},
   "outputs": [
    {
     "data": {
      "text/plain": [
       "False"
      ]
     },
     "execution_count": 29,
     "metadata": {},
     "output_type": "execute_result"
    }
   ],
   "source": [
    "43==54"
   ]
  },
  {
   "cell_type": "code",
   "execution_count": 31,
   "id": "52c9901c-11fc-4a00-a995-407cd1dd8786",
   "metadata": {},
   "outputs": [
    {
     "data": {
      "text/plain": [
       "True"
      ]
     },
     "execution_count": 31,
     "metadata": {},
     "output_type": "execute_result"
    }
   ],
   "source": [
    "12!=10\n",
    "## != not equal to"
   ]
  },
  {
   "cell_type": "code",
   "execution_count": 33,
   "id": "52751e56-8854-4739-af7c-4631d8277b44",
   "metadata": {},
   "outputs": [
    {
     "data": {
      "text/plain": [
       "True"
      ]
     },
     "execution_count": 33,
     "metadata": {},
     "output_type": "execute_result"
    }
   ],
   "source": [
    "1==1 and 15>5"
   ]
  },
  {
   "cell_type": "code",
   "execution_count": 37,
   "id": "eda37e29-8c53-40f9-ae6d-cb2eefa304ee",
   "metadata": {},
   "outputs": [
    {
     "data": {
      "text/plain": [
       "False"
      ]
     },
     "execution_count": 37,
     "metadata": {},
     "output_type": "execute_result"
    }
   ],
   "source": [
    "15!=15 and 1<5"
   ]
  },
  {
   "cell_type": "code",
   "execution_count": 39,
   "id": "7ad471ed-b0a2-4c1e-aff4-7e341b4dd44b",
   "metadata": {},
   "outputs": [
    {
     "data": {
      "text/plain": [
       "True"
      ]
     },
     "execution_count": 39,
     "metadata": {},
     "output_type": "execute_result"
    }
   ],
   "source": [
    "1==1 or 12!=12"
   ]
  },
  {
   "cell_type": "code",
   "execution_count": 41,
   "id": "c91f8038-2679-4bc0-852a-24467a3b0d36",
   "metadata": {},
   "outputs": [
    {
     "data": {
      "text/plain": [
       "False"
      ]
     },
     "execution_count": 41,
     "metadata": {},
     "output_type": "execute_result"
    }
   ],
   "source": [
    "60>90 or 12==10"
   ]
  },
  {
   "cell_type": "code",
   "execution_count": 43,
   "id": "a78da373-6a87-42f9-9060-450657107693",
   "metadata": {},
   "outputs": [],
   "source": [
    "## variables - Containers to store values\n"
   ]
  },
  {
   "cell_type": "code",
   "execution_count": 47,
   "id": "32a81596-38f7-48b4-b675-b416cdd2ef83",
   "metadata": {},
   "outputs": [],
   "source": [
    "g =9.8"
   ]
  },
  {
   "cell_type": "code",
   "execution_count": 49,
   "id": "8d59d8cd-d7a0-40a2-b895-76da3d51b0cd",
   "metadata": {},
   "outputs": [
    {
     "name": "stdout",
     "output_type": "stream",
     "text": [
      "9.8\n"
     ]
    }
   ],
   "source": [
    "print(g)"
   ]
  },
  {
   "cell_type": "code",
   "execution_count": 51,
   "id": "e5da7dda-e55d-4065-aa74-774c5ac78f93",
   "metadata": {},
   "outputs": [
    {
     "ename": "NameError",
     "evalue": "name 'r' is not defined",
     "output_type": "error",
     "traceback": [
      "\u001b[1;31m---------------------------------------------------------------------------\u001b[0m",
      "\u001b[1;31mNameError\u001b[0m                                 Traceback (most recent call last)",
      "Cell \u001b[1;32mIn[51], line 1\u001b[0m\n\u001b[1;32m----> 1\u001b[0m \u001b[43mr\u001b[49m\n",
      "\u001b[1;31mNameError\u001b[0m: name 'r' is not defined"
     ]
    }
   ],
   "source": [
    "r"
   ]
  },
  {
   "cell_type": "code",
   "execution_count": 53,
   "id": "94a55206-c465-4578-97cd-cec509f03efa",
   "metadata": {},
   "outputs": [
    {
     "data": {
      "text/plain": [
       "9.8"
      ]
     },
     "execution_count": 53,
     "metadata": {},
     "output_type": "execute_result"
    }
   ],
   "source": [
    "g"
   ]
  },
  {
   "cell_type": "code",
   "execution_count": 55,
   "id": "6b0e88c5-386f-46c8-9e38-60955cd7e3d8",
   "metadata": {},
   "outputs": [
    {
     "data": {
      "text/plain": [
       "True"
      ]
     },
     "execution_count": 55,
     "metadata": {},
     "output_type": "execute_result"
    }
   ],
   "source": [
    "g <10"
   ]
  },
  {
   "cell_type": "code",
   "execution_count": 57,
   "id": "d5d5a1be-e75e-436c-aae9-708a0d1d46c0",
   "metadata": {},
   "outputs": [],
   "source": [
    "p=\"petroleum\""
   ]
  },
  {
   "cell_type": "code",
   "execution_count": 59,
   "id": "0077df80-397d-4cab-9a00-c10587ac81d4",
   "metadata": {},
   "outputs": [
    {
     "data": {
      "text/plain": [
       "'petroleum'"
      ]
     },
     "execution_count": 59,
     "metadata": {},
     "output_type": "execute_result"
    }
   ],
   "source": [
    "p"
   ]
  },
  {
   "cell_type": "code",
   "execution_count": 61,
   "id": "7066df10-15ad-465c-a554-4b60194f64cf",
   "metadata": {},
   "outputs": [],
   "source": [
    "a=\" is basic for driving\""
   ]
  },
  {
   "cell_type": "code",
   "execution_count": 63,
   "id": "44813593-a7b2-4cdd-8eef-826bdf41e328",
   "metadata": {},
   "outputs": [
    {
     "data": {
      "text/plain": [
       "'petroleum is basic for driving'"
      ]
     },
     "execution_count": 63,
     "metadata": {},
     "output_type": "execute_result"
    }
   ],
   "source": [
    "p+a"
   ]
  },
  {
   "cell_type": "code",
   "execution_count": 65,
   "id": "3efa2b3b-c410-4d30-807a-1ab8b77e61cd",
   "metadata": {},
   "outputs": [],
   "source": [
    "## Variable name cannot start with number or spl characters"
   ]
  },
  {
   "cell_type": "code",
   "execution_count": 67,
   "id": "571ee199-6090-4ebe-95e0-9f9329205f34",
   "metadata": {},
   "outputs": [],
   "source": [
    " ##docstring:documentation of a function"
   ]
  },
  {
   "cell_type": "code",
   "execution_count": 69,
   "id": "82451399-71a7-4e72-8916-336082df65a2",
   "metadata": {},
   "outputs": [
    {
     "name": "stdout",
     "output_type": "stream",
     "text": [
      "0.6\n"
     ]
    }
   ],
   "source": [
    "por_1=0.1\n",
    "por_2=0.5\n",
    "print(por_1+por_2)"
   ]
  },
  {
   "cell_type": "code",
   "execution_count": 71,
   "id": "dc7a4334-0e4c-4d86-bf5b-d72110b783ad",
   "metadata": {},
   "outputs": [
    {
     "data": {
      "text/plain": [
       "0.05"
      ]
     },
     "execution_count": 71,
     "metadata": {},
     "output_type": "execute_result"
    }
   ],
   "source": [
    "por_1*por_2"
   ]
  },
  {
   "cell_type": "code",
   "execution_count": 73,
   "id": "f175edf3-557d-413b-b810-cf599e7888f3",
   "metadata": {},
   "outputs": [],
   "source": [
    "##input = taking Input from a user"
   ]
  },
  {
   "cell_type": "code",
   "execution_count": 75,
   "id": "c39b3d6f-b4e2-406b-bcab-698b1880ce4b",
   "metadata": {},
   "outputs": [
    {
     "name": "stdin",
     "output_type": "stream",
     "text": [
      " 10\n"
     ]
    },
    {
     "data": {
      "text/plain": [
       "'10'"
      ]
     },
     "execution_count": 75,
     "metadata": {},
     "output_type": "execute_result"
    }
   ],
   "source": [
    "input()"
   ]
  },
  {
   "cell_type": "code",
   "execution_count": 77,
   "id": "5988c594-7493-4b4e-84f4-2410eb9f8571",
   "metadata": {},
   "outputs": [
    {
     "name": "stdin",
     "output_type": "stream",
     "text": [
      " testing an input\n"
     ]
    }
   ],
   "source": [
    "i_put=input()"
   ]
  },
  {
   "cell_type": "code",
   "execution_count": 79,
   "id": "6d6792cc-3c2e-46f3-a6b2-4a5d3fb90387",
   "metadata": {},
   "outputs": [
    {
     "data": {
      "text/plain": [
       "'testing an input'"
      ]
     },
     "execution_count": 79,
     "metadata": {},
     "output_type": "execute_result"
    }
   ],
   "source": [
    "i_put"
   ]
  },
  {
   "cell_type": "code",
   "execution_count": 81,
   "id": "70cca1c7-539a-4468-8290-4b2098c280c4",
   "metadata": {},
   "outputs": [
    {
     "data": {
      "text/plain": [
       "5.0"
      ]
     },
     "execution_count": 81,
     "metadata": {},
     "output_type": "execute_result"
    }
   ],
   "source": [
    "float(5)"
   ]
  },
  {
   "cell_type": "code",
   "execution_count": 83,
   "id": "786b0ca3-a183-465d-acbd-7a6fdd72e650",
   "metadata": {},
   "outputs": [
    {
     "name": "stdin",
     "output_type": "stream",
     "text": [
      " 11.5\n"
     ]
    },
    {
     "data": {
      "text/plain": [
       "11.5"
      ]
     },
     "execution_count": 83,
     "metadata": {},
     "output_type": "execute_result"
    }
   ],
   "source": [
    "float(input())"
   ]
  },
  {
   "cell_type": "code",
   "execution_count": 87,
   "id": "749d0e52-71e2-466c-9d91-d085a0627024",
   "metadata": {},
   "outputs": [
    {
     "name": "stdin",
     "output_type": "stream",
     "text": [
      " 5\n"
     ]
    },
    {
     "data": {
      "text/plain": [
       "1500.0"
      ]
     },
     "execution_count": 87,
     "metadata": {},
     "output_type": "execute_result"
    }
   ],
   "source": [
    "x=float(input())\n",
    "xr=(x+10)*100\n",
    "xr"
   ]
  },
  {
   "cell_type": "code",
   "execution_count": 89,
   "id": "d89bca76-9f44-400c-ac3f-4167d7600c75",
   "metadata": {},
   "outputs": [
    {
     "data": {
      "text/plain": [
       "11"
      ]
     },
     "execution_count": 89,
     "metadata": {},
     "output_type": "execute_result"
    }
   ],
   "source": [
    "int(11.2)"
   ]
  },
  {
   "cell_type": "code",
   "execution_count": 93,
   "id": "6d1c4837-b6ce-486b-a86e-143a2f8f1801",
   "metadata": {},
   "outputs": [
    {
     "data": {
      "text/plain": [
       "'11'"
      ]
     },
     "execution_count": 93,
     "metadata": {},
     "output_type": "execute_result"
    }
   ],
   "source": [
    "str(\"11\")"
   ]
  },
  {
   "cell_type": "code",
   "execution_count": 97,
   "id": "d66933e4-90b0-4eb3-8078-b41f02bcf196",
   "metadata": {},
   "outputs": [
    {
     "name": "stdin",
     "output_type": "stream",
     "text": [
      "enter porosity values:  10\n",
      "enter permeability value:  5\n",
      "enter gor ration:  1.2\n"
     ]
    },
    {
     "data": {
      "text/plain": [
       "50.0"
      ]
     },
     "execution_count": 97,
     "metadata": {},
     "output_type": "execute_result"
    }
   ],
   "source": [
    "porosity = float(input(\"enter porosity values: \"))\n",
    "permeability = float(input(\"enter permeability value: \"))\n",
    "gor = float(input(\"enter gor ration: \"))\n",
    "result = porosity * permeability\n",
    "result"
   ]
  },
  {
   "cell_type": "code",
   "execution_count": 111,
   "id": "35b5381a-8e05-466c-9003-f6c461d984f3",
   "metadata": {},
   "outputs": [
    {
     "name": "stdin",
     "output_type": "stream",
     "text": [
      "enter porosity values:  1\n",
      "enter permeability value:  4\n",
      "enter gor ration:  5\n"
     ]
    },
    {
     "name": "stdout",
     "output_type": "stream",
     "text": [
      "4.0\n",
      "The porosity of formation is 1.0 \n",
      "The permeability of formation is 4.0 \n",
      "The final result is 4.0\n"
     ]
    }
   ],
   "source": [
    "porosity = float(input(\"enter porosity values: \"))\n",
    "permeability = float(input(\"enter permeability value: \"))\n",
    "gor = float(input(\"enter gor ration: \"))\n",
    "result = porosity * permeability\n",
    "print (result)\n",
    "print(f\"The porosity of formation is {porosity} \\nThe permeability of formation is {permeability} \\nThe final result is {result}\")"
   ]
  },
  {
   "cell_type": "markdown",
   "id": "04817098-332e-42dc-bd85-06db01490a3d",
   "metadata": {},
   "source": []
  }
 ],
 "metadata": {
  "kernelspec": {
   "display_name": "Python 3 (ipykernel)",
   "language": "python",
   "name": "python3"
  },
  "language_info": {
   "codemirror_mode": {
    "name": "ipython",
    "version": 3
   },
   "file_extension": ".py",
   "mimetype": "text/x-python",
   "name": "python",
   "nbconvert_exporter": "python",
   "pygments_lexer": "ipython3",
   "version": "3.12.4"
  }
 },
 "nbformat": 4,
 "nbformat_minor": 5
}
